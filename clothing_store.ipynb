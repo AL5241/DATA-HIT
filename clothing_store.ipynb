{
 "cells": [
  {
   "cell_type": "code",
   "execution_count": 1,
   "metadata": {},
   "outputs": [],
   "source": [
    "import csv\n",
    "import pandas as pd\n",
    "import numpy as np\n",
    "import matplotlib.pyplot as plt\n",
    "import sklearn.datasets\n",
    "from sklearn.linear_model import LinearRegression\n",
    "from sklearn.metrics import mean_squared_error,mean_absolute_error,mean_squared_log_error\n",
    "from sklearn.linear_model import LogisticRegression\n",
    "\n",
    "from sklearn import tree\n",
    "import matplotlib.image as mpimg\n",
    "import matplotlib.pyplot as plt\n",
    "from IPython.display import Image\n",
    "\n",
    "\n",
    "\n",
    "import numpy as np\n",
    "import pandas as pd\n",
    "import scipy\n",
    "from scipy import stats"
   ]
  },
  {
   "cell_type": "code",
   "execution_count": 2,
   "metadata": {},
   "outputs": [],
   "source": [
    "df = pd.read_csv('Clothing_Store.csv')\n",
    "df.columns = df.columns.str.replace(' ', '_')\n",
    "df.columns = df.columns.str.replace('&', 'and')\n",
    "df.columns = df.columns.str.replace('-', '_')\n",
    "df.drop([6268], inplace = True)"
   ]
  },
  {
   "cell_type": "code",
   "execution_count": 3,
   "metadata": {},
   "outputs": [
    {
     "name": "stdout",
     "output_type": "stream",
     "text": [
      "6763\n"
     ]
    }
   ],
   "source": [
    "df[\"CreditCard_User\"].describe()\n",
    "df[\"WEB\"].sum()\n",
    "x=0\n",
    "for i in df[\"MAILED\"]:\n",
    "    if i > 0:\n",
    "        x=x+1\n",
    "print(x)"
   ]
  },
  {
   "cell_type": "code",
   "execution_count": 4,
   "metadata": {},
   "outputs": [
    {
     "name": "stdout",
     "output_type": "stream",
     "text": [
      "<class 'pandas.core.series.Series'>\n",
      "Empty DataFrame\n",
      "Columns: [HHKEY, ZIP_CODE, Num_Purchases, TotalSpend, CreditCard_User, Average_Spend, PC_CALC20, PSWEATERS, PKNIT_TOPS, PKNIT_DRES, PBLOUSES, PJACKETS, PCAR_PNTS, PCAS_PNTS, PSHIRTS, PDRESSES, PSUITS, POUTERWEAR, PJEWELRY, PFASHION, PLEGWEAR, Pother, PROMOS, DaysonFile, BeteenPurchases, MARKDOWN, COUPONS, STORES, WEB, MAILED, RESPONDED, RESPONSERATE, DiversitySpend, Perc_Returns, RESP]\n",
      "Index: []\n",
      "\n",
      "[0 rows x 35 columns]\n"
     ]
    }
   ],
   "source": [
    "purchases=df[\"Num_Purchases\"]\n",
    "total_spend=df[\"TotalSpend\"]\n",
    "print(type(purchases))\n",
    "print(df[0:0])"
   ]
  },
  {
   "cell_type": "code",
   "execution_count": 5,
   "metadata": {},
   "outputs": [],
   "source": [
    "#שינוי עמודת הכרטיס אשראי לבינארית\n",
    "df[\"CreditCard_User\"]=np.where(df[\"CreditCard_User\"]==\"Yes\",1,0)"
   ]
  },
  {
   "cell_type": "code",
   "execution_count": 6,
   "metadata": {},
   "outputs": [
    {
     "name": "stdout",
     "output_type": "stream",
     "text": [
      "                 TotalSpend    PROMOS   COUPONS       WEB    MAILED  \\\n",
      "TotalSpend         1.000000  0.449112  0.732746  0.213813  0.396139   \n",
      "PROMOS             0.449112  1.000000  0.406527  0.146671  0.892671   \n",
      "COUPONS            0.732746  0.406527  1.000000  0.185210  0.351516   \n",
      "WEB                0.213813  0.146671  0.185210  1.000000  0.112079   \n",
      "MAILED             0.396139  0.892671  0.351516  0.112079  1.000000   \n",
      "RESPONDED          0.696184  0.652418  0.694055  0.192196  0.663458   \n",
      "Perc_Returns       0.022416  0.099425  0.097552  0.049442  0.088268   \n",
      "CreditCard_User    0.367435  0.417327  0.442141  0.135192  0.362191   \n",
      "DiversitySpend    -0.371587 -0.325218 -0.308349 -0.124719 -0.300749   \n",
      "\n",
      "                 RESPONDED  Perc_Returns  CreditCard_User  DiversitySpend  \n",
      "TotalSpend        0.696184      0.022416         0.367435       -0.371587  \n",
      "PROMOS            0.652418      0.099425         0.417327       -0.325218  \n",
      "COUPONS           0.694055      0.097552         0.442141       -0.308349  \n",
      "WEB               0.192196      0.049442         0.135192       -0.124719  \n",
      "MAILED            0.663458      0.088268         0.362191       -0.300749  \n",
      "RESPONDED         1.000000      0.099777         0.426046       -0.408243  \n",
      "Perc_Returns      0.099777      1.000000         0.085323       -0.253174  \n",
      "CreditCard_User   0.426046      0.085323         1.000000       -0.316475  \n",
      "DiversitySpend   -0.408243     -0.253174        -0.316475        1.000000  \n"
     ]
    }
   ],
   "source": [
    "#הטבלה עם העמודות שמעניינות אותנו באמת\n",
    "#df=df.drop(columns=\"HHKEY\",\"ZIP_CODE\",\"Credit_Card_User\",\"Average_Spend\",\"PC_CALC20\"]\n",
    "df_reg=df[[\"TotalSpend\",\"PROMOS\",\"COUPONS\",\"WEB\",\"MAILED\",\"RESPONDED\",\"Perc_Returns\",\"CreditCard_User\",\"DiversitySpend\"]]\n",
    "pd.set_option('display.max_columns', 35) #replace n with the number of columns you want to see completely\n",
    "df_corr=df_reg.corr()\n",
    "print(df_corr)\n",
    "df_reg=df_reg.drop(columns=\"RESPONDED\")"
   ]
  },
  {
   "cell_type": "code",
   "execution_count": 7,
   "metadata": {},
   "outputs": [
    {
     "name": "stdout",
     "output_type": "stream",
     "text": [
      "Training set size: 5694\n",
      "Test set size: 2443\n",
      "Regression finished with R^2= 0.6255080263188517\n",
      "root of mse= 408.00419711101534\n",
      "Perc_Returns      -154.815364\n",
      "CreditCard_User    -21.589251\n",
      "DiversitySpend      -3.562678\n",
      "MAILED               2.290211\n",
      "PROMOS              13.746199\n",
      "COUPONS            221.302940\n",
      "WEB                238.292330\n",
      "dtype: float64\n"
     ]
    }
   ],
   "source": [
    "#הרגרסיה\n",
    "X=df_reg.drop(columns=\"TotalSpend\")\n",
    "y=df_reg[\"TotalSpend\"]\n",
    "training_set_fraction = 0.7\n",
    "msk = np.random.rand(len(y)) < training_set_fraction\n",
    "X_train = X[msk]\n",
    "y_train = y[msk]\n",
    "X_test = X[~msk]\n",
    "y_test = y[~msk]\n",
    "print ('Training set size: {0:d}\\nTest set size: {1:d}'.format(len(X_train),len(X_test)))\n",
    "lm = LinearRegression()\n",
    "lm.fit(X_train, y_train)\n",
    "print('Regression finished with R^2=',lm.score(X_test,y_test))\n",
    "y_hat=lm.predict(X_test)\n",
    "mae=mean_absolute_error(y_hat,y_test)\n",
    "mse=mean_squared_error(y_hat,y_test)\n",
    "rmae=mae**(0.5)\n",
    "rmse=mse**(0.5)\n",
    "print(\"root of mse=\",rmse)\n",
    "importance=lm.coef_\n",
    "the_brand_is_right = pd.Series(importance, index=X.columns)\n",
    "sorted_importances=the_brand_is_right.sort_values()\n",
    "print(sorted_importances)"
   ]
  },
  {
   "cell_type": "code",
   "execution_count": 8,
   "metadata": {},
   "outputs": [
    {
     "name": "stdout",
     "output_type": "stream",
     "text": [
      "265.98\n"
     ]
    }
   ],
   "source": [
    "#יצירת שתי טבלאות חדשות למתחת לחציון ומעל החציון\n",
    "median_total_spend=df[\"TotalSpend\"].median()\n",
    "print(median_total_spend)\n",
    "df[\"bigger_than_median\"]=np.where(df[\"TotalSpend\"]>=median_total_spend,1,0)\n",
    "df_less_median=df.loc[df.bigger_than_median==0]\n",
    "df_bigger_median=df.loc[df.bigger_than_median==1]"
   ]
  },
  {
   "cell_type": "code",
   "execution_count": 9,
   "metadata": {},
   "outputs": [
    {
     "name": "stdout",
     "output_type": "stream",
     "text": [
      "high p value are:  ['PROMOS', 'WEB', 'COUPONS', 'MAILED', 'RESPONDED', 'DiversitySpend', 'Perc_Returns', 'PSWEATERS', 'PKNIT_TOPS', 'PBLOUSES', 'PJACKETS', 'PCAS_PNTS', 'PSHIRTS', 'PDRESSES', 'PSUITS', 'PJEWELRY', 'PFASHION', 'PLEGWEAR']\n",
      "low p value are:  ['PKNIT_DRES', 'PCAR_PNTS', 'POUTERWEAR']\n"
     ]
    },
    {
     "data": {
      "text/html": [
       "<div>\n",
       "<style scoped>\n",
       "    .dataframe tbody tr th:only-of-type {\n",
       "        vertical-align: middle;\n",
       "    }\n",
       "\n",
       "    .dataframe tbody tr th {\n",
       "        vertical-align: top;\n",
       "    }\n",
       "\n",
       "    .dataframe thead th {\n",
       "        text-align: right;\n",
       "    }\n",
       "</style>\n",
       "<table border=\"1\" class=\"dataframe\">\n",
       "  <thead>\n",
       "    <tr style=\"text-align: right;\">\n",
       "      <th></th>\n",
       "      <th>subject</th>\n",
       "      <th>mean_bigger</th>\n",
       "      <th>mean_less</th>\n",
       "      <th>significance</th>\n",
       "    </tr>\n",
       "  </thead>\n",
       "  <tbody>\n",
       "    <tr>\n",
       "      <th>0</th>\n",
       "      <td>PROMOS</td>\n",
       "      <td>14.838781</td>\n",
       "      <td>8.245575</td>\n",
       "      <td>yes</td>\n",
       "    </tr>\n",
       "    <tr>\n",
       "      <th>1</th>\n",
       "      <td>WEB</td>\n",
       "      <td>0.072499</td>\n",
       "      <td>0.012537</td>\n",
       "      <td>yes</td>\n",
       "    </tr>\n",
       "    <tr>\n",
       "      <th>2</th>\n",
       "      <td>COUPONS</td>\n",
       "      <td>1.450479</td>\n",
       "      <td>0.099066</td>\n",
       "      <td>yes</td>\n",
       "    </tr>\n",
       "    <tr>\n",
       "      <th>3</th>\n",
       "      <td>MAILED</td>\n",
       "      <td>6.112558</td>\n",
       "      <td>3.035644</td>\n",
       "      <td>yes</td>\n",
       "    </tr>\n",
       "    <tr>\n",
       "      <th>4</th>\n",
       "      <td>RESPONDED</td>\n",
       "      <td>2.126075</td>\n",
       "      <td>0.272124</td>\n",
       "      <td>yes</td>\n",
       "    </tr>\n",
       "    <tr>\n",
       "      <th>5</th>\n",
       "      <td>DiversitySpend</td>\n",
       "      <td>23.874040</td>\n",
       "      <td>51.541138</td>\n",
       "      <td>yes</td>\n",
       "    </tr>\n",
       "    <tr>\n",
       "      <th>6</th>\n",
       "      <td>Perc_Returns</td>\n",
       "      <td>0.128474</td>\n",
       "      <td>0.110320</td>\n",
       "      <td>yes</td>\n",
       "    </tr>\n",
       "    <tr>\n",
       "      <th>7</th>\n",
       "      <td>PSWEATERS</td>\n",
       "      <td>0.188372</td>\n",
       "      <td>0.243884</td>\n",
       "      <td>yes</td>\n",
       "    </tr>\n",
       "    <tr>\n",
       "      <th>8</th>\n",
       "      <td>PKNIT_TOPS</td>\n",
       "      <td>0.025071</td>\n",
       "      <td>0.031315</td>\n",
       "      <td>yes</td>\n",
       "    </tr>\n",
       "    <tr>\n",
       "      <th>9</th>\n",
       "      <td>PKNIT_DRES</td>\n",
       "      <td>0.039030</td>\n",
       "      <td>0.042448</td>\n",
       "      <td>no</td>\n",
       "    </tr>\n",
       "    <tr>\n",
       "      <th>10</th>\n",
       "      <td>PBLOUSES</td>\n",
       "      <td>0.090490</td>\n",
       "      <td>0.102118</td>\n",
       "      <td>yes</td>\n",
       "    </tr>\n",
       "    <tr>\n",
       "      <th>11</th>\n",
       "      <td>PJACKETS</td>\n",
       "      <td>0.157583</td>\n",
       "      <td>0.112380</td>\n",
       "      <td>yes</td>\n",
       "    </tr>\n",
       "    <tr>\n",
       "      <th>12</th>\n",
       "      <td>PCAR_PNTS</td>\n",
       "      <td>0.089049</td>\n",
       "      <td>0.083225</td>\n",
       "      <td>no</td>\n",
       "    </tr>\n",
       "    <tr>\n",
       "      <th>13</th>\n",
       "      <td>PCAS_PNTS</td>\n",
       "      <td>0.062530</td>\n",
       "      <td>0.080608</td>\n",
       "      <td>yes</td>\n",
       "    </tr>\n",
       "    <tr>\n",
       "      <th>14</th>\n",
       "      <td>PSHIRTS</td>\n",
       "      <td>0.071637</td>\n",
       "      <td>0.064412</td>\n",
       "      <td>yes</td>\n",
       "    </tr>\n",
       "    <tr>\n",
       "      <th>15</th>\n",
       "      <td>PDRESSES</td>\n",
       "      <td>0.063360</td>\n",
       "      <td>0.078803</td>\n",
       "      <td>yes</td>\n",
       "    </tr>\n",
       "    <tr>\n",
       "      <th>16</th>\n",
       "      <td>PSUITS</td>\n",
       "      <td>0.034809</td>\n",
       "      <td>0.027338</td>\n",
       "      <td>yes</td>\n",
       "    </tr>\n",
       "    <tr>\n",
       "      <th>17</th>\n",
       "      <td>POUTERWEAR</td>\n",
       "      <td>0.016353</td>\n",
       "      <td>0.016723</td>\n",
       "      <td>no</td>\n",
       "    </tr>\n",
       "    <tr>\n",
       "      <th>18</th>\n",
       "      <td>PJEWELRY</td>\n",
       "      <td>0.007031</td>\n",
       "      <td>0.010209</td>\n",
       "      <td>yes</td>\n",
       "    </tr>\n",
       "    <tr>\n",
       "      <th>19</th>\n",
       "      <td>PFASHION</td>\n",
       "      <td>0.024496</td>\n",
       "      <td>0.029970</td>\n",
       "      <td>yes</td>\n",
       "    </tr>\n",
       "    <tr>\n",
       "      <th>20</th>\n",
       "      <td>PLEGWEAR</td>\n",
       "      <td>0.009442</td>\n",
       "      <td>0.014274</td>\n",
       "      <td>yes</td>\n",
       "    </tr>\n",
       "  </tbody>\n",
       "</table>\n",
       "</div>"
      ],
      "text/plain": [
       "           subject  mean_bigger  mean_less significance\n",
       "0           PROMOS    14.838781   8.245575          yes\n",
       "1              WEB     0.072499   0.012537          yes\n",
       "2          COUPONS     1.450479   0.099066          yes\n",
       "3           MAILED     6.112558   3.035644          yes\n",
       "4        RESPONDED     2.126075   0.272124          yes\n",
       "5   DiversitySpend    23.874040  51.541138          yes\n",
       "6     Perc_Returns     0.128474   0.110320          yes\n",
       "7        PSWEATERS     0.188372   0.243884          yes\n",
       "8       PKNIT_TOPS     0.025071   0.031315          yes\n",
       "9       PKNIT_DRES     0.039030   0.042448           no\n",
       "10        PBLOUSES     0.090490   0.102118          yes\n",
       "11        PJACKETS     0.157583   0.112380          yes\n",
       "12       PCAR_PNTS     0.089049   0.083225           no\n",
       "13       PCAS_PNTS     0.062530   0.080608          yes\n",
       "14         PSHIRTS     0.071637   0.064412          yes\n",
       "15        PDRESSES     0.063360   0.078803          yes\n",
       "16          PSUITS     0.034809   0.027338          yes\n",
       "17      POUTERWEAR     0.016353   0.016723           no\n",
       "18        PJEWELRY     0.007031   0.010209          yes\n",
       "19        PFASHION     0.024496   0.029970          yes\n",
       "20        PLEGWEAR     0.009442   0.014274          yes"
      ]
     },
     "execution_count": 9,
     "metadata": {},
     "output_type": "execute_result"
    }
   ],
   "source": [
    "#t test\n",
    "stats.ttest_ind(df_less_median[\"COUPONS\"],df_bigger_median[\"COUPONS\"],equal_var=False)\n",
    "high_pvalue=[]\n",
    "low_pvalue=[]\n",
    "mean_bigger=[]\n",
    "mean_less=[]\n",
    "subject=[]\n",
    "p_value=[]\n",
    "for r in [\"PROMOS\",\"WEB\",\"COUPONS\",\"MAILED\",\"RESPONDED\",\"DiversitySpend\",\"Perc_Returns\"]:\n",
    "    result=stats.ttest_ind(df_less_median[r],df_bigger_median[r],equal_var=False)\n",
    "    if (result.pvalue < 0.05):\n",
    "        high_pvalue.append(r)\n",
    "        p_value.append(\"yes\")\n",
    "    else:\n",
    "        low_pvalue.append(r)\n",
    "        p_value.append(\"no\")\n",
    "    mean_bigger.append(df_bigger_median[r].mean())\n",
    "    mean_less.append(df_less_median[r].mean())\n",
    "    subject.append(r)\n",
    "for r in [\"PSWEATERS\", \"PKNIT_TOPS\", \"PKNIT_DRES\", \"PBLOUSES\", \"PJACKETS\", \"PCAR_PNTS\", \"PCAS_PNTS\", \"PSHIRTS\", \"PDRESSES\", \"PSUITS\", \"POUTERWEAR\", \"PJEWELRY\", \"PFASHION\", \"PLEGWEAR\"]:\n",
    "    result=stats.ttest_ind(df_less_median[r],df_bigger_median[r],equal_var=False)\n",
    "    if (result.pvalue < 0.05):\n",
    "        high_pvalue.append(r)\n",
    "        p_value.append(\"yes\")\n",
    "    else:\n",
    "        low_pvalue.append(r)\n",
    "        p_value.append(\"no\")\n",
    "    mean_bigger.append(df_bigger_median[r].mean())\n",
    "    mean_less.append(df_less_median[r].mean())\n",
    "    subject.append(r)\n",
    "print(\"high p value are: \",high_pvalue)\n",
    "print(\"low p value are: \",low_pvalue)\n",
    "d_means={\"subject\": subject, \"mean_bigger\": mean_bigger, \"mean_less\": mean_less, \"significance\": p_value}\n",
    "df_means=pd.DataFrame(data=d_means)\n",
    "df_means\n",
    "\n",
    "    "
   ]
  },
  {
   "cell_type": "code",
   "execution_count": 10,
   "metadata": {},
   "outputs": [],
   "source": [
    "#רגרסיה ליניארית על מתחת לחציון\n",
    "df_reg=df_less_median[[\"TotalSpend\",\"CreditCard_User\", \"PROMOS\", \"WEB\", \"COUPONS\", \"MAILED\",\"Perc_Returns\"]]\n"
   ]
  },
  {
   "cell_type": "code",
   "execution_count": 11,
   "metadata": {
    "scrolled": true
   },
   "outputs": [
    {
     "name": "stdout",
     "output_type": "stream",
     "text": [
      "Training set size: 5645\n",
      "Test set size: 2492\n",
      "Regression finished with R^2= 0.5415927127151912\n",
      "root of mse= 409.40786213621703\n"
     ]
    }
   ],
   "source": [
    "#רגרסיה ליניארית על הכל\n",
    "df_reg=df[[\"TotalSpend\",\"CreditCard_User\", \"PROMOS\", \"WEB\", \"COUPONS\", \"MAILED\",\"Perc_Returns\"]]\n",
    "X=df_reg.drop(columns=\"TotalSpend\")\n",
    "y=df_reg[\"TotalSpend\"]\n",
    "training_set_fraction = 0.7\n",
    "msk = np.random.rand(len(y)) < training_set_fraction\n",
    "X_train = X[msk]\n",
    "y_train = y[msk]\n",
    "X_test = X[~msk]\n",
    "y_test = y[~msk]\n",
    "print ('Training set size: {0:d}\\nTest set size: {1:d}'.format(len(X_train),len(X_test)))\n",
    "lm = LinearRegression()\n",
    "lm.fit(X_train, y_train)\n",
    "print('Regression finished with R^2=',lm.score(X_test,y_test))\n",
    "y_hat=lm.predict(X_test)\n",
    "mae=mean_absolute_error(y_hat,y_test)\n",
    "mse=mean_squared_error(y_hat,y_test)\n",
    "rmae=mae**(0.5)\n",
    "rmse=mse**(0.5)\n",
    "print(\"root of mse=\",rmse)"
   ]
  },
  {
   "cell_type": "code",
   "execution_count": 12,
   "metadata": {},
   "outputs": [
    {
     "name": "stdout",
     "output_type": "stream",
     "text": [
      "              HHKEY      ZIP_CODE  Num_Purchases    TotalSpend  \\\n",
      "count  8.137000e+03   8137.000000    8137.000000   8137.000000   \n",
      "mean   9.960000e+12  23783.398919       5.174757    491.480172   \n",
      "std    0.000000e+00  11219.560409       6.614931    663.126944   \n",
      "min    9.960000e+12   1001.000000       1.000000      5.000000   \n",
      "25%    9.960000e+12  15116.000000       1.000000    135.980000   \n",
      "50%    9.960000e+12  27233.000000       3.000000    265.980000   \n",
      "75%    9.960000e+12  33024.000000       6.000000    581.230000   \n",
      "max    9.960000e+12  98433.000000     115.000000  12794.020000   \n",
      "\n",
      "       CreditCard_User  Average_Spend    PC_CALC20    PSWEATERS   PKNIT_TOPS  \\\n",
      "count      8137.000000    8137.000000  8137.000000  8137.000000  8137.000000   \n",
      "mean          0.364631     114.072791    12.728893     0.216124     0.028192   \n",
      "std           0.481356      86.390698     2.533743     0.232349     0.067772   \n",
      "min           0.000000       2.500000    11.000000     0.000000     0.000000   \n",
      "25%           0.000000      60.640000    11.000000     0.000000     0.000000   \n",
      "50%           0.000000      92.490000    11.000000     0.160000     0.000000   \n",
      "75%           1.000000     139.970000    16.000000     0.310000     0.030000   \n",
      "max           1.000000    1331.940000    19.000000     1.000000     1.000000   \n",
      "\n",
      "        PKNIT_DRES     PBLOUSES     PJACKETS    PCAR_PNTS    PCAS_PNTS  \\\n",
      "count  8137.000000  8137.000000  8137.000000  8137.000000  8137.000000   \n",
      "mean      0.040739     0.096303     0.134984     0.086137     0.071568   \n",
      "std       0.108642     0.136890     0.182287     0.142445     0.134362   \n",
      "min       0.000000     0.000000     0.000000     0.000000     0.000000   \n",
      "25%       0.000000     0.000000     0.000000     0.000000     0.000000   \n",
      "50%       0.000000     0.050000     0.040000     0.000000     0.000000   \n",
      "75%       0.030000     0.140000     0.230000     0.130000     0.090000   \n",
      "max       1.000000     1.000000     1.000000     1.000000     1.000000   \n",
      "\n",
      "           PSHIRTS     PDRESSES       PSUITS  ...     PFASHION     PLEGWEAR  \\\n",
      "count  8137.000000  8137.000000  8137.000000  ...  8137.000000  8137.000000   \n",
      "mean      0.068025     0.071081     0.031074  ...     0.027233     0.011858   \n",
      "std       0.116221     0.156288     0.125559  ...     0.074626     0.049043   \n",
      "min       0.000000     0.000000     0.000000  ...     0.000000     0.000000   \n",
      "25%       0.000000     0.000000     0.000000  ...     0.000000     0.000000   \n",
      "50%       0.000000     0.000000     0.000000  ...     0.000000     0.000000   \n",
      "75%       0.100000     0.070000     0.000000  ...     0.020000     0.000000   \n",
      "max       1.000000     1.000000     1.000000  ...     1.000000     1.000000   \n",
      "\n",
      "            Pother       PROMOS   DaysonFile  BeteenPurchases     MARKDOWN  \\\n",
      "count  8137.000000  8137.000000  8137.000000      8137.000000  8137.000000   \n",
      "mean      0.091524    11.542583   439.733317       168.667041     0.186400   \n",
      "std       0.134539     7.065151   195.369458       145.145553     0.128736   \n",
      "min       0.000000     0.000000     4.000000         4.000000     0.000000   \n",
      "25%       0.010000     5.000000   285.000000        66.000000     0.080000   \n",
      "50%       0.030000    12.000000   456.000000       123.600000     0.180000   \n",
      "75%       0.120000    17.000000   633.000000       226.000000     0.280000   \n",
      "max       0.920000    35.000000   713.000000       713.000000     0.590000   \n",
      "\n",
      "           COUPONS       STORES          WEB       MAILED    RESPONDED  \\\n",
      "count  8137.000000  8137.000000  8137.000000  8137.000000  8137.000000   \n",
      "mean      0.774856     2.319651     0.042522     4.574290     1.199213   \n",
      "std       1.792024     1.604504     0.201789     3.550405     1.844698   \n",
      "min       0.000000     1.000000     0.000000     0.000000     0.000000   \n",
      "25%       0.000000     1.000000     0.000000     1.000000     0.000000   \n",
      "50%       0.000000     2.000000     0.000000     4.000000     0.000000   \n",
      "75%       1.000000     3.000000     0.000000     8.000000     2.000000   \n",
      "max      23.000000    17.000000     1.000000    11.000000    11.000000   \n",
      "\n",
      "       RESPONSERATE  DiversitySpend  Perc_Returns         RESP  \\\n",
      "count   8137.000000     8137.000000   8137.000000  8137.000000   \n",
      "mean      17.760414       37.705889      0.119398     0.162714   \n",
      "std       25.279978       27.933818      0.378094     0.369127   \n",
      "min        0.000000        0.440000      0.000000     0.000000   \n",
      "25%        0.000000       18.340000      0.000000     0.000000   \n",
      "50%        0.000000       29.560000      0.000000     0.000000   \n",
      "75%       30.000000       50.000000      0.090000     0.000000   \n",
      "max      100.000000      200.000000     10.520000     1.000000   \n",
      "\n",
      "       bigger_than_median  \n",
      "count         8137.000000  \n",
      "mean             0.500061  \n",
      "std              0.500031  \n",
      "min              0.000000  \n",
      "25%              0.000000  \n",
      "50%              1.000000  \n",
      "75%              1.000000  \n",
      "max              1.000000  \n",
      "\n",
      "[8 rows x 36 columns]\n"
     ]
    }
   ],
   "source": [
    "pd.set_option('display.max_columns', 35) #replace n with the number of columns you want to see completely\n",
    "df_describe=df.describe()\n",
    "print(df_describe)\n"
   ]
  },
  {
   "cell_type": "code",
   "execution_count": 13,
   "metadata": {},
   "outputs": [
    {
     "data": {
      "text/plain": [
       "PC_CALC20     11.00\n",
       "PSWEATERS      0.16\n",
       "PBLOUSES       0.05\n",
       "PJACKETS       0.04\n",
       "PFASHION       0.00\n",
       "PJEWELRY       0.00\n",
       "POUTERWEAR     0.00\n",
       "PSUITS         0.00\n",
       "PDRESSES       0.00\n",
       "PSHIRTS        0.00\n",
       "PCAS_PNTS      0.00\n",
       "PCAR_PNTS      0.00\n",
       "PKNIT_DRES     0.00\n",
       "PKNIT_TOPS     0.00\n",
       "Name: 50%, dtype: float64"
      ]
     },
     "execution_count": 13,
     "metadata": {},
     "output_type": "execute_result"
    }
   ],
   "source": [
    "#sort of the means and the medians from the describe\n",
    "means=df_describe.iloc[1,6:20]\n",
    "means.sort_values(ascending=False)\n",
    "medians=df_describe.iloc[5,6:20]\n",
    "medians.sort_values(ascending=False)"
   ]
  },
  {
   "cell_type": "code",
   "execution_count": 14,
   "metadata": {},
   "outputs": [
    {
     "name": "stdout",
     "output_type": "stream",
     "text": [
      "percent of clients that buy in more than 5000 dollars:  0.2212117488017697\n",
      "percent of clients that buy in more than 1000 dollars:  12.203514808897628\n",
      "percent of clients that buy in less than 100 dollars:  14.513948629716111\n"
     ]
    },
    {
     "data": {
      "text/plain": [
       "<function print>"
      ]
     },
     "execution_count": 14,
     "metadata": {},
     "output_type": "execute_result"
    },
    {
     "data": {
      "image/png": "[encoded data removed]",
      "text/plain": [
       "<Figure size 432x288 with 1 Axes>"
      ]
     },
     "metadata": {
      "needs_background": "light"
     },
     "output_type": "display_data"
    }
   ],
   "source": [
    "total_spend.plot.hist(by=None, bins=1000)\n",
    "bigger_than_5000=0\n",
    "bigger_than_1000=0\n",
    "lower_than_100=0\n",
    "for r in total_spend:\n",
    "    if r > 5000:\n",
    "        bigger_than_5000+=1\n",
    "    if r > 1000:\n",
    "        bigger_than_1000+=1\n",
    "    if r < 100:\n",
    "        lower_than_100+=1\n",
    "        \n",
    "bigger_than_5000=bigger_than_5000*100/len(total_spend)\n",
    "bigger_than_1000=bigger_than_1000*100/len(total_spend)\n",
    "lower_than_100=lower_than_100*100/len(total_spend)\n",
    "\n",
    "print(\"percent of clients that buy in more than 5000 dollars: \",bigger_than_5000)\n",
    "print(\"percent of clients that buy in more than 1000 dollars: \",bigger_than_1000)\n",
    "print(\"percent of clients that buy in less than 100 dollars: \",lower_than_100)\n",
    "print "
   ]
  },
  {
   "cell_type": "code",
   "execution_count": 15,
   "metadata": {},
   "outputs": [
    {
     "name": "stdout",
     "output_type": "stream",
     "text": [
      "          HHKEY  ZIP_CODE  Num_Purchases  TotalSpend  CreditCard_User  \\\n",
      "0  9.960000e+12      1001              2      368.46                0   \n",
      "1  9.960000e+12      1028              4      258.00                1   \n",
      "2  9.960000e+12      1056              2       77.00                0   \n",
      "3  9.960000e+12      1118              8      846.06                1   \n",
      "4  9.960000e+12      1107              1       87.44                0   \n",
      "\n",
      "   Average_Spend  PC_CALC20  PSWEATERS  PKNIT_TOPS  PKNIT_DRES  PBLOUSES  \\\n",
      "0         184.23         11       0.18        0.00        0.00      0.30   \n",
      "1          64.50         11       0.26        0.16        0.00      0.00   \n",
      "2          38.50         11       1.00        0.00        0.00      0.00   \n",
      "3         105.75         11       0.38        0.00        0.05      0.06   \n",
      "4          87.44         11       0.20        0.20        0.00      0.00   \n",
      "\n",
      "   PJACKETS  PCAR_PNTS  PCAS_PNTS  PSHIRTS  PDRESSES  PSUITS  ...  PFASHION  \\\n",
      "0       0.0       0.25       0.00     0.19      0.00     0.0  ...      0.02   \n",
      "1       0.0       0.18       0.14     0.00      0.18     0.0  ...      0.00   \n",
      "2       0.0       0.00       0.00     0.00      0.00     0.0  ...      0.00   \n",
      "3       0.2       0.17       0.00     0.05      0.00     0.0  ...      0.03   \n",
      "4       0.0       0.00       0.41     0.00      0.00     0.0  ...      0.00   \n",
      "\n",
      "   PLEGWEAR    Pother  PROMOS  DaysonFile  BeteenPurchases  MARKDOWN  COUPONS  \\\n",
      "0      0.03  0.030000      17         666           333.00      0.08        1   \n",
      "1      0.02  0.060000      14         696           174.00      0.33        0   \n",
      "2      0.00  0.000000      10         343           171.50      0.11        0   \n",
      "3      0.01  0.044693      24         701            87.62      0.29        3   \n",
      "4      0.00  0.020000       0          49            49.00      0.42        0   \n",
      "\n",
      "   STORES  WEB  MAILED  RESPONDED  RESPONSERATE  DiversitySpend  Perc_Returns  \\\n",
      "0       1    0       5          0          0.00           31.81          0.00   \n",
      "1       1    0       4          2         50.00           32.72          0.03   \n",
      "2       1    0       4          0          0.00          100.00          0.00   \n",
      "3       1    0       9          6         66.67           23.27          0.00   \n",
      "4       1    0       0          0          0.00           28.52          0.00   \n",
      "\n",
      "   RESP  bigger_than_median  \n",
      "0     0                   1  \n",
      "1     1                   0  \n",
      "2     0                   0  \n",
      "3     0                   1  \n",
      "4     0                   0  \n",
      "\n",
      "[5 rows x 36 columns]\n",
      "0        1001\n",
      "1        1028\n",
      "2        1056\n",
      "3        1118\n",
      "4        1107\n",
      "        ...  \n",
      "8133    39206\n",
      "8134    39110\n",
      "8135    39212\n",
      "8136    39211\n",
      "8137    39232\n",
      "Name: ZIP_CODE, Length: 8137, dtype: int64\n"
     ]
    }
   ],
   "source": [
    "print(df.head())\n",
    "print(df[\"ZIP_CODE\"])"
   ]
  }
 ],
 "metadata": {
  "kernelspec": {
   "display_name": "Python 3",
   "language": "python",
   "name": "python3"
  },
  "language_info": {
   "codemirror_mode": {
    "name": "ipython",
    "version": 3
   },
   "file_extension": ".py",
   "mimetype": "text/x-python",
   "name": "python",
   "nbconvert_exporter": "python",
   "pygments_lexer": "ipython3",
   "version": "3.8.5"
  }
 },
 "nbformat": 4,
 "nbformat_minor": 4
}

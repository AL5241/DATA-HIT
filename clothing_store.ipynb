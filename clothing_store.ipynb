{
 "cells": [
  {
   "cell_type": "code",
   "execution_count": null,
   "metadata": {},
   "outputs": [],
   "source": [
    "import csv\n",
    "import pandas as pd\n",
    "import numpy as np\n",
    "import matplotlib.pyplot as plt\n",
    "import sklearn.datasets\n",
    "from sklearn.linear_model import LinearRegression\n",
    "from sklearn.metrics import mean_squared_error,mean_absolute_error,mean_squared_log_error\n",
    "from sklearn.linear_model import LogisticRegression\n",
    "\n",
    "from sklearn import tree\n",
    "import matplotlib.image as mpimg\n",
    "import matplotlib.pyplot as plt\n",
    "from IPython.display import Image\n",
    "\n",
    "\n",
    "\n",
    "import numpy as np\n",
    "import pandas as pd\n",
    "import scipy\n",
    "from scipy import stats"
   ]
  },
  {
   "cell_type": "code",
   "execution_count": null,
   "metadata": {},
   "outputs": [],
   "source": [
    "df = pd.read_csv('Clothing_Store.csv')\n",
    "df.columns = df.columns.str.replace(' ', '_')\n",
    "df.columns = df.columns.str.replace('&', 'and')\n",
    "df.columns = df.columns.str.replace('-', '_')\n",
    "df.drop([6268], inplace = True)"
   ]
  },
  {
   "cell_type": "code",
   "execution_count": null,
   "metadata": {},
   "outputs": [],
   "source": [
    "df[\"CreditCard_User\"].describe()\n",
    "df[\"WEB\"].sum()\n",
    "x=0\n",
    "for i in df[\"MAILED\"]:\n",
    "    if i > 0:\n",
    "        x=x+1\n",
    "print(x)"
   ]
  },
  {
   "cell_type": "code",
   "execution_count": null,
   "metadata": {},
   "outputs": [],
   "source": [
    "purchases=df[\"Num_Purchases\"]\n",
    "total_spend=df[\"TotalSpend\"]\n",
    "print(type(purchases))\n",
    "print(df[0:0])"
   ]
  },
  {
   "cell_type": "code",
   "execution_count": null,
   "metadata": {},
   "outputs": [],
   "source": [
    "#שינוי עמודת הכרטיס אשראי לבינארית\n",
    "df[\"CreditCard_User\"]=np.where(df[\"CreditCard_User\"]==\"Yes\",1,0)"
   ]
  },
  {
   "cell_type": "code",
   "execution_count": null,
   "metadata": {},
   "outputs": [],
   "source": [
    "#הטבלה עם העמודות שמעניינות אותנו באמת\n",
    "#df=df.drop(columns=\"HHKEY\",\"ZIP_CODE\",\"Credit_Card_User\",\"Average_Spend\",\"PC_CALC20\"]\n",
    "df_reg=df[[\"TotalSpend\",\"PROMOS\",\"COUPONS\",\"WEB\",\"MAILED\",\"RESPONDED\",\"Perc_Returns\",\"CreditCard_User\",\"DiversitySpend\"]]\n",
    "pd.set_option('display.max_columns', 35) #replace n with the number of columns you want to see completely\n",
    "df_corr=df_reg.corr()\n",
    "print(df_corr)\n",
    "df_reg=df_reg.drop(columns=\"RESPONDED\")"
   ]
  },
  {
   "cell_type": "code",
   "execution_count": null,
   "metadata": {},
   "outputs": [],
   "source": [
    "#הרגרסיה\n",
    "X=df_reg.drop(columns=\"TotalSpend\")\n",
    "y=df_reg[\"TotalSpend\"]\n",
    "training_set_fraction = 0.7\n",
    "msk = np.random.rand(len(y)) < training_set_fraction\n",
    "X_train = X[msk]\n",
    "y_train = y[msk]\n",
    "X_test = X[~msk]\n",
    "y_test = y[~msk]\n",
    "print ('Training set size: {0:d}\\nTest set size: {1:d}'.format(len(X_train),len(X_test)))\n",
    "lm = LinearRegression()\n",
    "lm.fit(X_train, y_train)\n",
    "print('Regression finished with R^2=',lm.score(X_test,y_test))\n",
    "y_hat=lm.predict(X_test)\n",
    "mae=mean_absolute_error(y_hat,y_test)\n",
    "mse=mean_squared_error(y_hat,y_test)\n",
    "rmae=mae**(0.5)\n",
    "rmse=mse**(0.5)\n",
    "print(\"root of mse=\",rmse)\n",
    "importance=lm.coef_\n",
    "the_brand_is_right = pd.Series(importance, index=X.columns)\n",
    "sorted_importances=the_brand_is_right.sort_values()\n",
    "print(sorted_importances)"
   ]
  },
  {
   "cell_type": "code",
   "execution_count": null,
   "metadata": {},
   "outputs": [],
   "source": [
    "#יצירת שתי טבלאות חדשות למתחת לחציון ומעל החציון\n",
    "median_total_spend=df[\"TotalSpend\"].median()\n",
    "print(median_total_spend)\n",
    "df[\"bigger_than_median\"]=np.where(df[\"TotalSpend\"]>=median_total_spend,1,0)\n",
    "df_less_median=df.loc[df.bigger_than_median==0]\n",
    "df_bigger_median=df.loc[df.bigger_than_median==1]"
   ]
  },
  {
   "cell_type": "code",
   "execution_count": null,
   "metadata": {},
   "outputs": [],
   "source": [
    "#t test\n",
    "stats.ttest_ind(df_less_median[\"COUPONS\"],df_bigger_median[\"COUPONS\"],equal_var=False)\n",
    "high_pvalue=[]\n",
    "low_pvalue=[]\n",
    "mean_bigger=[]\n",
    "mean_less=[]\n",
    "subject=[]\n",
    "p_value=[]\n",
    "for r in [\"PROMOS\",\"WEB\",\"COUPONS\",\"MAILED\",\"RESPONDED\",\"DiversitySpend\",\"Perc_Returns\"]:\n",
    "    result=stats.ttest_ind(df_less_median[r],df_bigger_median[r],equal_var=False)\n",
    "    if (result.pvalue < 0.05):\n",
    "        high_pvalue.append(r)\n",
    "        p_value.append(\"yes\")\n",
    "    else:\n",
    "        low_pvalue.append(r)\n",
    "        p_value.append(\"no\")\n",
    "    mean_bigger.append(df_bigger_median[r].mean())\n",
    "    mean_less.append(df_less_median[r].mean())\n",
    "    subject.append(r)\n",
    "for r in [\"PSWEATERS\", \"PKNIT_TOPS\", \"PKNIT_DRES\", \"PBLOUSES\", \"PJACKETS\", \"PCAR_PNTS\", \"PCAS_PNTS\", \"PSHIRTS\", \"PDRESSES\", \"PSUITS\", \"POUTERWEAR\", \"PJEWELRY\", \"PFASHION\", \"PLEGWEAR\"]:\n",
    "    result=stats.ttest_ind(df_less_median[r],df_bigger_median[r],equal_var=False)\n",
    "    if (result.pvalue < 0.05):\n",
    "        high_pvalue.append(r)\n",
    "        p_value.append(\"yes\")\n",
    "    else:\n",
    "        low_pvalue.append(r)\n",
    "        p_value.append(\"no\")\n",
    "    mean_bigger.append(df_bigger_median[r].mean())\n",
    "    mean_less.append(df_less_median[r].mean())\n",
    "    subject.append(r)\n",
    "print(\"high p value are: \",high_pvalue)\n",
    "print(\"low p value are: \",low_pvalue)\n",
    "d_means={\"subject\": subject, \"mean_bigger\": mean_bigger, \"mean_less\": mean_less, \"significance\": p_value}\n",
    "df_means=pd.DataFrame(data=d_means)\n",
    "df_means\n",
    "\n",
    "    "
   ]
  },
  {
   "cell_type": "code",
   "execution_count": null,
   "metadata": {},
   "outputs": [],
   "source": [
    "#רגרסיה ליניארית על מתחת לחציון\n",
    "df_reg=df_less_median[[\"TotalSpend\",\"CreditCard_User\", \"PROMOS\", \"WEB\", \"COUPONS\", \"MAILED\",\"Perc_Returns\"]]\n"
   ]
  },
  {
   "cell_type": "code",
   "execution_count": null,
   "metadata": {
    "scrolled": true
   },
   "outputs": [],
   "source": [
    "#רגרסיה ליניארית על הכל\n",
    "df_reg=df[[\"TotalSpend\",\"CreditCard_User\", \"PROMOS\", \"WEB\", \"COUPONS\", \"MAILED\",\"Perc_Returns\"]]\n",
    "X=df_reg.drop(columns=\"TotalSpend\")\n",
    "y=df_reg[\"TotalSpend\"]\n",
    "training_set_fraction = 0.7\n",
    "msk = np.random.rand(len(y)) < training_set_fraction\n",
    "X_train = X[msk]\n",
    "y_train = y[msk]\n",
    "X_test = X[~msk]\n",
    "y_test = y[~msk]\n",
    "print ('Training set size: {0:d}\\nTest set size: {1:d}'.format(len(X_train),len(X_test)))\n",
    "lm = LinearRegression()\n",
    "lm.fit(X_train, y_train)\n",
    "print('Regression finished with R^2=',lm.score(X_test,y_test))\n",
    "y_hat=lm.predict(X_test)\n",
    "mae=mean_absolute_error(y_hat,y_test)\n",
    "mse=mean_squared_error(y_hat,y_test)\n",
    "rmae=mae**(0.5)\n",
    "rmse=mse**(0.5)\n",
    "print(\"root of mse=\",rmse)"
   ]
  },
  {
   "cell_type": "code",
   "execution_count": null,
   "metadata": {},
   "outputs": [],
   "source": [
    "pd.set_option('display.max_columns', 35) #replace n with the number of columns you want to see completely\n",
    "df_describe=df.describe()\n",
    "print(df_describe)\n"
   ]
  },
  {
   "cell_type": "code",
   "execution_count": null,
   "metadata": {},
   "outputs": [],
   "source": [
    "#sort of the means and the medians from the describe\n",
    "means=df_describe.iloc[1,6:20]\n",
    "means.sort_values(ascending=False)\n",
    "medians=df_describe.iloc[5,6:20]\n",
    "medians.sort_values(ascending=False)"
   ]
  },
  {
   "cell_type": "code",
   "execution_count": null,
   "metadata": {},
   "outputs": [],
   "source": [
    "total_spend.plot.hist(by=None, bins=1000)\n",
    "bigger_than_5000=0\n",
    "bigger_than_1000=0\n",
    "lower_than_100=0\n",
    "for r in total_spend:\n",
    "    if r > 5000:\n",
    "        bigger_than_5000+=1\n",
    "    if r > 1000:\n",
    "        bigger_than_1000+=1\n",
    "    if r < 100:\n",
    "        lower_than_100+=1\n",
    "        \n",
    "bigger_than_5000=bigger_than_5000*100/len(total_spend)\n",
    "bigger_than_1000=bigger_than_1000*100/len(total_spend)\n",
    "lower_than_100=lower_than_100*100/len(total_spend)\n",
    "\n",
    "print(\"percent of clients that buy in more than 5000 dollars: \",bigger_than_5000)\n",
    "print(\"percent of clients that buy in more than 1000 dollars: \",bigger_than_1000)\n",
    "print(\"percent of clients that buy in less than 100 dollars: \",lower_than_100)\n",
    "print "
   ]
  },
  {
   "cell_type": "code",
   "execution_count": null,
   "metadata": {},
   "outputs": [],
   "source": [
    "print(df.head())\n",
    "print(df[\"ZIP_CODE\"])"
   ]
  }
 ],
 "metadata": {
  "kernelspec": {
   "display_name": "Python 3",
   "language": "python",
   "name": "python3"
  },
  "language_info": {
   "codemirror_mode": {
    "name": "ipython",
    "version": 3
   },
   "file_extension": ".py",
   "mimetype": "text/x-python",
   "name": "python",
   "nbconvert_exporter": "python",
   "pygments_lexer": "ipython3",
   "version": "3.8.5"
  }
 },
 "nbformat": 4,
 "nbformat_minor": 4
}

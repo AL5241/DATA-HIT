{
 "cells": [
  {
   "cell_type": "code",
   "execution_count": 1,
   "metadata": {},
   "outputs": [],
   "source": [
    "import csv\n",
    "import pandas as pd\n",
    "import numpy as np\n",
    "import matplotlib.pyplot as plt\n",
    "import sklearn.datasets\n",
    "from sklearn.linear_model import LinearRegression\n",
    "from sklearn.metrics import mean_squared_error,mean_absolute_error,mean_squared_log_error\n",
    "from sklearn.linear_model import LogisticRegression\n",
    "\n",
    "from sklearn import tree\n",
    "import matplotlib.image as mpimg\n",
    "import matplotlib.pyplot as plt\n",
    "from IPython.display import Image\n",
    "\n",
    "import plotly as py\n",
    "import plotly.graph_objs as go\n",
    "from plotly.tools import FigureFactory as FF\n",
    "from plotly import __version__\n",
    "%matplotlib inline\n",
    "import cufflinks as cf\n",
    "from plotly.offline import download_plotlyjs, init_notebook_mode, plot, iplot\n",
    "from plotly.offline import iplot\n",
    "\n",
    "import numpy as np\n",
    "import pandas as pd\n",
    "import scipy\n",
    "from scipy import stats"
   ]
  },
  {
   "cell_type": "code",
   "execution_count": 2,
   "metadata": {},
   "outputs": [],
   "source": [
    "#!pip install plotly==5.1.0\n",
    "#!pip uninstall plotly==5.1.0"
   ]
  },
  {
   "cell_type": "code",
   "execution_count": 3,
   "metadata": {},
   "outputs": [],
   "source": [
    "#!pip install plotly==3.10.0\n",
    "#!pip install cufflinks"
   ]
  },
  {
   "cell_type": "code",
   "execution_count": 4,
   "metadata": {},
   "outputs": [
    {
     "ename": "AttributeError",
     "evalue": "module 'plotly' has no attribute 'iplot'",
     "output_type": "error",
     "traceback": [
      "\u001b[1;31m---------------------------------------------------------------------------\u001b[0m",
      "\u001b[1;31mAttributeError\u001b[0m                            Traceback (most recent call last)",
      "\u001b[1;32m<ipython-input-4-e00319ab9a74>\u001b[0m in \u001b[0;36m<module>\u001b[1;34m\u001b[0m\n\u001b[0;32m     19\u001b[0m \u001b[0mdata\u001b[0m \u001b[1;33m=\u001b[0m \u001b[1;33m[\u001b[0m\u001b[0mtrace1\u001b[0m\u001b[1;33m,\u001b[0m \u001b[0mtrace2\u001b[0m\u001b[1;33m]\u001b[0m\u001b[1;33m\u001b[0m\u001b[1;33m\u001b[0m\u001b[0m\n\u001b[0;32m     20\u001b[0m \u001b[1;33m\u001b[0m\u001b[0m\n\u001b[1;32m---> 21\u001b[1;33m \u001b[0mpy\u001b[0m\u001b[1;33m.\u001b[0m\u001b[0miplot\u001b[0m\u001b[1;33m(\u001b[0m\u001b[0mdata\u001b[0m\u001b[1;33m,\u001b[0m \u001b[0mfilename\u001b[0m\u001b[1;33m=\u001b[0m\u001b[1;34m'normal-dists-plot'\u001b[0m\u001b[1;33m)\u001b[0m\u001b[1;33m\u001b[0m\u001b[1;33m\u001b[0m\u001b[0m\n\u001b[0m",
      "\u001b[1;32mC:\\ProgramData\\Anaconda3\\lib\\site-packages\\_plotly_utils\\importers.py\u001b[0m in \u001b[0;36m__getattr__\u001b[1;34m(import_name)\u001b[0m\n\u001b[0;32m     37\u001b[0m             \u001b[1;32mreturn\u001b[0m \u001b[0mgetattr\u001b[0m\u001b[1;33m(\u001b[0m\u001b[0mclass_module\u001b[0m\u001b[1;33m,\u001b[0m \u001b[0mclass_name\u001b[0m\u001b[1;33m)\u001b[0m\u001b[1;33m\u001b[0m\u001b[1;33m\u001b[0m\u001b[0m\n\u001b[0;32m     38\u001b[0m \u001b[1;33m\u001b[0m\u001b[0m\n\u001b[1;32m---> 39\u001b[1;33m         raise AttributeError(\n\u001b[0m\u001b[0;32m     40\u001b[0m             \"module {__name__!r} has no attribute {name!r}\".format(\n\u001b[0;32m     41\u001b[0m                 \u001b[0mname\u001b[0m\u001b[1;33m=\u001b[0m\u001b[0mimport_name\u001b[0m\u001b[1;33m,\u001b[0m \u001b[0m__name__\u001b[0m\u001b[1;33m=\u001b[0m\u001b[0mparent_name\u001b[0m\u001b[1;33m\u001b[0m\u001b[1;33m\u001b[0m\u001b[0m\n",
      "\u001b[1;31mAttributeError\u001b[0m: module 'plotly' has no attribute 'iplot'"
     ]
    }
   ],
   "source": [
    "x = np.linspace(-4, 4, 160)\n",
    "y1 = scipy.stats.norm.pdf(x)\n",
    "y2 = scipy.stats.norm.pdf(x, loc=2)\n",
    "\n",
    "trace1 = go.Scatter(\n",
    "    x = x,\n",
    "    y = y1,\n",
    "    mode = 'lines+markers',\n",
    "    name='Mean of 0'\n",
    ")\n",
    "\n",
    "trace2 = go.Scatter(\n",
    "    x = x,\n",
    "    y = y2,\n",
    "    mode = 'lines+markers',\n",
    "    name='Mean of 2'\n",
    ")\n",
    "\n",
    "data = [trace1, trace2]\n",
    "\n",
    "py.iplot(data, filename='normal-dists-plot')"
   ]
  },
  {
   "cell_type": "markdown",
   "metadata": {},
   "source": []
  },
  {
   "cell_type": "code",
   "execution_count": 5,
   "metadata": {},
   "outputs": [],
   "source": [
    "df = pd.read_csv('Clothing_Store.csv')\n",
    "df.columns = df.columns.str.replace(' ', '_')\n",
    "df.columns = df.columns.str.replace('&', 'and')\n",
    "df.columns = df.columns.str.replace('-', '_')\n",
    "df.drop([6268], inplace = True)"
   ]
  },
  {
   "cell_type": "code",
   "execution_count": 19,
   "metadata": {},
   "outputs": [
    {
     "name": "stdout",
     "output_type": "stream",
     "text": [
      "6763\n"
     ]
    }
   ],
   "source": [
    "df[\"credit_card_bin\"].describe()\n",
    "df[\"WEB\"].sum()\n",
    "x=0\n",
    "for i in df[\"MAILED\"]:\n",
    "    if i > 0:\n",
    "        x=x+1\n",
    "print(x)"
   ]
  },
  {
   "cell_type": "code",
   "execution_count": 6,
   "metadata": {},
   "outputs": [
    {
     "name": "stdout",
     "output_type": "stream",
     "text": [
      "<class 'pandas.core.series.Series'>\n",
      "Empty DataFrame\n",
      "Columns: [HHKEY, ZIP_CODE, Num_Purchases, TotalSpend, Credit_Card_User, Average_Spend, PC_CALC20, PSWEATERS, PKNIT_TOPS, PKNIT_DRES, PBLOUSES, PJACKETS, PCAR_PNTS, PCAS_PNTS, PSHIRTS, PDRESSES, PSUITS, POUTERWEAR, PJEWELRY, PFASHION, PLEGWEAR, Pother, PROMOS, DaysonFile, BeteenPurchases, MARKDOWN, COUPONS, STORES, WEB, MAILED, RESPONDED, RESPONSERATE, DiversitySpend, Perc_Returns, RESP]\n",
      "Index: []\n",
      "\n",
      "[0 rows x 35 columns]\n"
     ]
    }
   ],
   "source": [
    "purchases=df[\"Num_Purchases\"]\n",
    "total_spend=df[\"TotalSpend\"]\n",
    "print(type(purchases))\n",
    "print(df[0:0])"
   ]
  },
  {
   "cell_type": "code",
   "execution_count": 7,
   "metadata": {},
   "outputs": [],
   "source": [
    "#שינוי עמודת הכרטיס אשראי לבינארית\n",
    "df[\"credit_card_bin\"]=np.where(df[\"Credit_Card_User\"]==\"Yes\",1,0)"
   ]
  },
  {
   "cell_type": "code",
   "execution_count": null,
   "metadata": {},
   "outputs": [],
   "source": []
  },
  {
   "cell_type": "code",
   "execution_count": 35,
   "metadata": {},
   "outputs": [
    {
     "name": "stdout",
     "output_type": "stream",
     "text": [
      "                 TotalSpend    PROMOS   COUPONS       WEB    MAILED  \\\n",
      "TotalSpend         1.000000  0.449112  0.732746  0.213813  0.396139   \n",
      "PROMOS             0.449112  1.000000  0.406527  0.146671  0.892671   \n",
      "COUPONS            0.732746  0.406527  1.000000  0.185210  0.351516   \n",
      "WEB                0.213813  0.146671  0.185210  1.000000  0.112079   \n",
      "MAILED             0.396139  0.892671  0.351516  0.112079  1.000000   \n",
      "RESPONDED          0.696184  0.652418  0.694055  0.192196  0.663458   \n",
      "Perc_Returns       0.022416  0.099425  0.097552  0.049442  0.088268   \n",
      "credit_card_bin    0.367435  0.417327  0.442141  0.135192  0.362191   \n",
      "DiversitySpend    -0.371587 -0.325218 -0.308349 -0.124719 -0.300749   \n",
      "\n",
      "                 RESPONDED  Perc_Returns  credit_card_bin  DiversitySpend  \n",
      "TotalSpend        0.696184      0.022416         0.367435       -0.371587  \n",
      "PROMOS            0.652418      0.099425         0.417327       -0.325218  \n",
      "COUPONS           0.694055      0.097552         0.442141       -0.308349  \n",
      "WEB               0.192196      0.049442         0.135192       -0.124719  \n",
      "MAILED            0.663458      0.088268         0.362191       -0.300749  \n",
      "RESPONDED         1.000000      0.099777         0.426046       -0.408243  \n",
      "Perc_Returns      0.099777      1.000000         0.085323       -0.253174  \n",
      "credit_card_bin   0.426046      0.085323         1.000000       -0.316475  \n",
      "DiversitySpend   -0.408243     -0.253174        -0.316475        1.000000  \n"
     ]
    }
   ],
   "source": [
    "#הטבלה עם העמודות שמעניינות אותנו באמת\n",
    "#df=df.drop(columns=\"HHKEY\",\"ZIP_CODE\",\"Credit_Card_User\",\"Average_Spend\",\"PC_CALC20\"]\n",
    "df_reg=df[[\"TotalSpend\",\"PROMOS\",\"COUPONS\",\"WEB\",\"MAILED\",\"RESPONDED\",\"Perc_Returns\",\"credit_card_bin\",\"DiversitySpend\"]]\n",
    "pd.set_option('display.max_columns', 35) #replace n with the number of columns you want to see completely\n",
    "df_corr=df_reg.corr()\n",
    "print(df_corr)\n",
    "df_reg=df_reg.drop(columns=\"RESPONDED\")"
   ]
  },
  {
   "cell_type": "code",
   "execution_count": 36,
   "metadata": {},
   "outputs": [
    {
     "name": "stdout",
     "output_type": "stream",
     "text": [
      "Training set size: 5585\n",
      "Test set size: 2552\n",
      "Regression finished with R^2= 0.5590242774540478\n",
      "root of mse= 398.4476241772208\n",
      "Perc_Returns      -183.545812\n",
      "credit_card_bin    -43.049755\n",
      "DiversitySpend      -3.440380\n",
      "MAILED              -1.389549\n",
      "PROMOS              15.380621\n",
      "WEB                247.016443\n",
      "COUPONS            249.761540\n",
      "dtype: float64\n"
     ]
    }
   ],
   "source": [
    "#הרגרסיה\n",
    "X=df_reg.drop(columns=\"TotalSpend\")\n",
    "y=df_reg[\"TotalSpend\"]\n",
    "training_set_fraction = 0.7\n",
    "msk = np.random.rand(len(y)) < training_set_fraction\n",
    "X_train = X[msk]\n",
    "y_train = y[msk]\n",
    "X_test = X[~msk]\n",
    "y_test = y[~msk]\n",
    "print ('Training set size: {0:d}\\nTest set size: {1:d}'.format(len(X_train),len(X_test)))\n",
    "lm = LinearRegression()\n",
    "lm.fit(X_train, y_train)\n",
    "print('Regression finished with R^2=',lm.score(X_test,y_test))\n",
    "y_hat=lm.predict(X_test)\n",
    "mae=mean_absolute_error(y_hat,y_test)\n",
    "mse=mean_squared_error(y_hat,y_test)\n",
    "rmae=mae**(0.5)\n",
    "rmse=mse**(0.5)\n",
    "print(\"root of mse=\",rmse)\n",
    "importance=lm.coef_\n",
    "the_brand_is_right = pd.Series(importance, index=X.columns)\n",
    "sorted_importances=the_brand_is_right.sort_values()\n",
    "print(sorted_importances)"
   ]
  },
  {
   "cell_type": "code",
   "execution_count": 20,
   "metadata": {},
   "outputs": [
    {
     "name": "stdout",
     "output_type": "stream",
     "text": [
      "265.98\n"
     ]
    }
   ],
   "source": [
    "#יצירת שתי טבלאות חדשות למתחת לחציון ומעל החציון\n",
    "median_total_spend=df[\"TotalSpend\"].median()\n",
    "print(median_total_spend)\n",
    "df[\"bigger_than_median\"]=np.where(df[\"TotalSpend\"]>=median_total_spend,1,0)\n",
    "df_less_median=df.loc[df.bigger_than_median==0]\n",
    "df_bigger_median=df.loc[df.bigger_than_median==1]"
   ]
  },
  {
   "cell_type": "code",
   "execution_count": 29,
   "metadata": {},
   "outputs": [
    {
     "name": "stdout",
     "output_type": "stream",
     "text": [
      "high p value are:  ['PROMOS', 'WEB', 'COUPONS', 'MAILED', 'RESPONDED', 'DiversitySpend', 'Perc_Returns', 'PSWEATERS', 'PKNIT_TOPS', 'PBLOUSES', 'PJACKETS', 'PCAS_PNTS', 'PSHIRTS', 'PDRESSES', 'PSUITS', 'PJEWELRY', 'PFASHION', 'PLEGWEAR']\n",
      "low p value are:  ['PKNIT_DRES', 'PCAR_PNTS', 'POUTERWEAR']\n"
     ]
    },
    {
     "data": {
      "text/html": [
       "<div>\n",
       "<style scoped>\n",
       "    .dataframe tbody tr th:only-of-type {\n",
       "        vertical-align: middle;\n",
       "    }\n",
       "\n",
       "    .dataframe tbody tr th {\n",
       "        vertical-align: top;\n",
       "    }\n",
       "\n",
       "    .dataframe thead th {\n",
       "        text-align: right;\n",
       "    }\n",
       "</style>\n",
       "<table border=\"1\" class=\"dataframe\">\n",
       "  <thead>\n",
       "    <tr style=\"text-align: right;\">\n",
       "      <th></th>\n",
       "      <th>subject</th>\n",
       "      <th>mean_bigger</th>\n",
       "      <th>mean_less</th>\n",
       "      <th>significance</th>\n",
       "    </tr>\n",
       "  </thead>\n",
       "  <tbody>\n",
       "    <tr>\n",
       "      <th>0</th>\n",
       "      <td>PROMOS</td>\n",
       "      <td>14.838781</td>\n",
       "      <td>8.245575</td>\n",
       "      <td>yes</td>\n",
       "    </tr>\n",
       "    <tr>\n",
       "      <th>1</th>\n",
       "      <td>WEB</td>\n",
       "      <td>0.072499</td>\n",
       "      <td>0.012537</td>\n",
       "      <td>yes</td>\n",
       "    </tr>\n",
       "    <tr>\n",
       "      <th>2</th>\n",
       "      <td>COUPONS</td>\n",
       "      <td>1.450479</td>\n",
       "      <td>0.099066</td>\n",
       "      <td>yes</td>\n",
       "    </tr>\n",
       "    <tr>\n",
       "      <th>3</th>\n",
       "      <td>MAILED</td>\n",
       "      <td>6.112558</td>\n",
       "      <td>3.035644</td>\n",
       "      <td>yes</td>\n",
       "    </tr>\n",
       "    <tr>\n",
       "      <th>4</th>\n",
       "      <td>RESPONDED</td>\n",
       "      <td>2.126075</td>\n",
       "      <td>0.272124</td>\n",
       "      <td>yes</td>\n",
       "    </tr>\n",
       "    <tr>\n",
       "      <th>5</th>\n",
       "      <td>DiversitySpend</td>\n",
       "      <td>23.874040</td>\n",
       "      <td>51.541138</td>\n",
       "      <td>yes</td>\n",
       "    </tr>\n",
       "    <tr>\n",
       "      <th>6</th>\n",
       "      <td>Perc_Returns</td>\n",
       "      <td>0.128474</td>\n",
       "      <td>0.110320</td>\n",
       "      <td>yes</td>\n",
       "    </tr>\n",
       "    <tr>\n",
       "      <th>7</th>\n",
       "      <td>PSWEATERS</td>\n",
       "      <td>0.188372</td>\n",
       "      <td>0.243884</td>\n",
       "      <td>yes</td>\n",
       "    </tr>\n",
       "    <tr>\n",
       "      <th>8</th>\n",
       "      <td>PKNIT_TOPS</td>\n",
       "      <td>0.025071</td>\n",
       "      <td>0.031315</td>\n",
       "      <td>yes</td>\n",
       "    </tr>\n",
       "    <tr>\n",
       "      <th>9</th>\n",
       "      <td>PKNIT_DRES</td>\n",
       "      <td>0.039030</td>\n",
       "      <td>0.042448</td>\n",
       "      <td>no</td>\n",
       "    </tr>\n",
       "    <tr>\n",
       "      <th>10</th>\n",
       "      <td>PBLOUSES</td>\n",
       "      <td>0.090490</td>\n",
       "      <td>0.102118</td>\n",
       "      <td>yes</td>\n",
       "    </tr>\n",
       "    <tr>\n",
       "      <th>11</th>\n",
       "      <td>PJACKETS</td>\n",
       "      <td>0.157583</td>\n",
       "      <td>0.112380</td>\n",
       "      <td>yes</td>\n",
       "    </tr>\n",
       "    <tr>\n",
       "      <th>12</th>\n",
       "      <td>PCAR_PNTS</td>\n",
       "      <td>0.089049</td>\n",
       "      <td>0.083225</td>\n",
       "      <td>no</td>\n",
       "    </tr>\n",
       "    <tr>\n",
       "      <th>13</th>\n",
       "      <td>PCAS_PNTS</td>\n",
       "      <td>0.062530</td>\n",
       "      <td>0.080608</td>\n",
       "      <td>yes</td>\n",
       "    </tr>\n",
       "    <tr>\n",
       "      <th>14</th>\n",
       "      <td>PSHIRTS</td>\n",
       "      <td>0.071637</td>\n",
       "      <td>0.064412</td>\n",
       "      <td>yes</td>\n",
       "    </tr>\n",
       "    <tr>\n",
       "      <th>15</th>\n",
       "      <td>PDRESSES</td>\n",
       "      <td>0.063360</td>\n",
       "      <td>0.078803</td>\n",
       "      <td>yes</td>\n",
       "    </tr>\n",
       "    <tr>\n",
       "      <th>16</th>\n",
       "      <td>PSUITS</td>\n",
       "      <td>0.034809</td>\n",
       "      <td>0.027338</td>\n",
       "      <td>yes</td>\n",
       "    </tr>\n",
       "    <tr>\n",
       "      <th>17</th>\n",
       "      <td>POUTERWEAR</td>\n",
       "      <td>0.016353</td>\n",
       "      <td>0.016723</td>\n",
       "      <td>no</td>\n",
       "    </tr>\n",
       "    <tr>\n",
       "      <th>18</th>\n",
       "      <td>PJEWELRY</td>\n",
       "      <td>0.007031</td>\n",
       "      <td>0.010209</td>\n",
       "      <td>yes</td>\n",
       "    </tr>\n",
       "    <tr>\n",
       "      <th>19</th>\n",
       "      <td>PFASHION</td>\n",
       "      <td>0.024496</td>\n",
       "      <td>0.029970</td>\n",
       "      <td>yes</td>\n",
       "    </tr>\n",
       "    <tr>\n",
       "      <th>20</th>\n",
       "      <td>PLEGWEAR</td>\n",
       "      <td>0.009442</td>\n",
       "      <td>0.014274</td>\n",
       "      <td>yes</td>\n",
       "    </tr>\n",
       "  </tbody>\n",
       "</table>\n",
       "</div>"
      ],
      "text/plain": [
       "           subject  mean_bigger  mean_less significance\n",
       "0           PROMOS    14.838781   8.245575          yes\n",
       "1              WEB     0.072499   0.012537          yes\n",
       "2          COUPONS     1.450479   0.099066          yes\n",
       "3           MAILED     6.112558   3.035644          yes\n",
       "4        RESPONDED     2.126075   0.272124          yes\n",
       "5   DiversitySpend    23.874040  51.541138          yes\n",
       "6     Perc_Returns     0.128474   0.110320          yes\n",
       "7        PSWEATERS     0.188372   0.243884          yes\n",
       "8       PKNIT_TOPS     0.025071   0.031315          yes\n",
       "9       PKNIT_DRES     0.039030   0.042448           no\n",
       "10        PBLOUSES     0.090490   0.102118          yes\n",
       "11        PJACKETS     0.157583   0.112380          yes\n",
       "12       PCAR_PNTS     0.089049   0.083225           no\n",
       "13       PCAS_PNTS     0.062530   0.080608          yes\n",
       "14         PSHIRTS     0.071637   0.064412          yes\n",
       "15        PDRESSES     0.063360   0.078803          yes\n",
       "16          PSUITS     0.034809   0.027338          yes\n",
       "17      POUTERWEAR     0.016353   0.016723           no\n",
       "18        PJEWELRY     0.007031   0.010209          yes\n",
       "19        PFASHION     0.024496   0.029970          yes\n",
       "20        PLEGWEAR     0.009442   0.014274          yes"
      ]
     },
     "execution_count": 29,
     "metadata": {},
     "output_type": "execute_result"
    }
   ],
   "source": [
    "#t test\n",
    "stats.ttest_ind(df_less_median[\"COUPONS\"],df_bigger_median[\"COUPONS\"],equal_var=False)\n",
    "high_pvalue=[]\n",
    "low_pvalue=[]\n",
    "mean_bigger=[]\n",
    "mean_less=[]\n",
    "subject=[]\n",
    "p_value=[]\n",
    "for r in [\"PROMOS\",\"WEB\",\"COUPONS\",\"MAILED\",\"RESPONDED\",\"DiversitySpend\",\"Perc_Returns\"]:\n",
    "    result=stats.ttest_ind(df_less_median[r],df_bigger_median[r],equal_var=False)\n",
    "    if (result.pvalue < 0.05):\n",
    "        high_pvalue.append(r)\n",
    "        p_value.append(\"yes\")\n",
    "    else:\n",
    "        low_pvalue.append(r)\n",
    "        p_value.append(\"no\")\n",
    "    mean_bigger.append(df_bigger_median[r].mean())\n",
    "    mean_less.append(df_less_median[r].mean())\n",
    "    subject.append(r)\n",
    "for r in [\"PSWEATERS\", \"PKNIT_TOPS\", \"PKNIT_DRES\", \"PBLOUSES\", \"PJACKETS\", \"PCAR_PNTS\", \"PCAS_PNTS\", \"PSHIRTS\", \"PDRESSES\", \"PSUITS\", \"POUTERWEAR\", \"PJEWELRY\", \"PFASHION\", \"PLEGWEAR\"]:\n",
    "    result=stats.ttest_ind(df_less_median[r],df_bigger_median[r],equal_var=False)\n",
    "    if (result.pvalue < 0.05):\n",
    "        high_pvalue.append(r)\n",
    "        p_value.append(\"yes\")\n",
    "    else:\n",
    "        low_pvalue.append(r)\n",
    "        p_value.append(\"no\")\n",
    "    mean_bigger.append(df_bigger_median[r].mean())\n",
    "    mean_less.append(df_less_median[r].mean())\n",
    "    subject.append(r)\n",
    "print(\"high p value are: \",high_pvalue)\n",
    "print(\"low p value are: \",low_pvalue)\n",
    "d_means={\"subject\": subject, \"mean_bigger\": mean_bigger, \"mean_less\": mean_less, \"significance\": p_value}\n",
    "df_means=pd.DataFrame(data=d_means)\n",
    "df_means\n",
    "\n",
    "    "
   ]
  },
  {
   "cell_type": "code",
   "execution_count": 58,
   "metadata": {},
   "outputs": [
    {
     "name": "stdout",
     "output_type": "stream",
     "text": [
      "Training set size: 2873\n",
      "Test set size: 1195\n",
      "Regression finished with R^2= 0.08413212492748667\n",
      "root of mse= 55.77071276101825\n"
     ]
    },
    {
     "data": {
      "text/html": [
       "<div>\n",
       "<style scoped>\n",
       "    .dataframe tbody tr th:only-of-type {\n",
       "        vertical-align: middle;\n",
       "    }\n",
       "\n",
       "    .dataframe tbody tr th {\n",
       "        vertical-align: top;\n",
       "    }\n",
       "\n",
       "    .dataframe thead th {\n",
       "        text-align: right;\n",
       "    }\n",
       "</style>\n",
       "<table border=\"1\" class=\"dataframe\">\n",
       "  <thead>\n",
       "    <tr style=\"text-align: right;\">\n",
       "      <th></th>\n",
       "      <th>TotalSpend</th>\n",
       "      <th>credit_card_bin</th>\n",
       "      <th>PROMOS</th>\n",
       "      <th>WEB</th>\n",
       "      <th>COUPONS</th>\n",
       "      <th>MAILED</th>\n",
       "      <th>Perc_Returns</th>\n",
       "    </tr>\n",
       "  </thead>\n",
       "  <tbody>\n",
       "    <tr>\n",
       "      <th>count</th>\n",
       "      <td>4068.000000</td>\n",
       "      <td>4068.000000</td>\n",
       "      <td>4068.000000</td>\n",
       "      <td>4068.000000</td>\n",
       "      <td>4068.000000</td>\n",
       "      <td>4068.000000</td>\n",
       "      <td>4068.000000</td>\n",
       "    </tr>\n",
       "    <tr>\n",
       "      <th>mean</th>\n",
       "      <td>144.400703</td>\n",
       "      <td>0.172566</td>\n",
       "      <td>8.245575</td>\n",
       "      <td>0.012537</td>\n",
       "      <td>0.099066</td>\n",
       "      <td>3.035644</td>\n",
       "      <td>0.110320</td>\n",
       "    </tr>\n",
       "    <tr>\n",
       "      <th>std</th>\n",
       "      <td>58.812756</td>\n",
       "      <td>0.377918</td>\n",
       "      <td>5.872418</td>\n",
       "      <td>0.111278</td>\n",
       "      <td>0.323293</td>\n",
       "      <td>3.045101</td>\n",
       "      <td>0.466719</td>\n",
       "    </tr>\n",
       "    <tr>\n",
       "      <th>min</th>\n",
       "      <td>5.000000</td>\n",
       "      <td>0.000000</td>\n",
       "      <td>0.000000</td>\n",
       "      <td>0.000000</td>\n",
       "      <td>0.000000</td>\n",
       "      <td>0.000000</td>\n",
       "      <td>0.000000</td>\n",
       "    </tr>\n",
       "    <tr>\n",
       "      <th>25%</th>\n",
       "      <td>96.970000</td>\n",
       "      <td>0.000000</td>\n",
       "      <td>3.000000</td>\n",
       "      <td>0.000000</td>\n",
       "      <td>0.000000</td>\n",
       "      <td>0.000000</td>\n",
       "      <td>0.000000</td>\n",
       "    </tr>\n",
       "    <tr>\n",
       "      <th>50%</th>\n",
       "      <td>135.980000</td>\n",
       "      <td>0.000000</td>\n",
       "      <td>7.000000</td>\n",
       "      <td>0.000000</td>\n",
       "      <td>0.000000</td>\n",
       "      <td>2.000000</td>\n",
       "      <td>0.000000</td>\n",
       "    </tr>\n",
       "    <tr>\n",
       "      <th>75%</th>\n",
       "      <td>189.992500</td>\n",
       "      <td>0.000000</td>\n",
       "      <td>13.000000</td>\n",
       "      <td>0.000000</td>\n",
       "      <td>0.000000</td>\n",
       "      <td>5.000000</td>\n",
       "      <td>0.000000</td>\n",
       "    </tr>\n",
       "    <tr>\n",
       "      <th>max</th>\n",
       "      <td>265.930000</td>\n",
       "      <td>1.000000</td>\n",
       "      <td>28.000000</td>\n",
       "      <td>1.000000</td>\n",
       "      <td>3.000000</td>\n",
       "      <td>11.000000</td>\n",
       "      <td>10.520000</td>\n",
       "    </tr>\n",
       "  </tbody>\n",
       "</table>\n",
       "</div>"
      ],
      "text/plain": [
       "        TotalSpend  credit_card_bin       PROMOS          WEB      COUPONS  \\\n",
       "count  4068.000000      4068.000000  4068.000000  4068.000000  4068.000000   \n",
       "mean    144.400703         0.172566     8.245575     0.012537     0.099066   \n",
       "std      58.812756         0.377918     5.872418     0.111278     0.323293   \n",
       "min       5.000000         0.000000     0.000000     0.000000     0.000000   \n",
       "25%      96.970000         0.000000     3.000000     0.000000     0.000000   \n",
       "50%     135.980000         0.000000     7.000000     0.000000     0.000000   \n",
       "75%     189.992500         0.000000    13.000000     0.000000     0.000000   \n",
       "max     265.930000         1.000000    28.000000     1.000000     3.000000   \n",
       "\n",
       "            MAILED  Perc_Returns  \n",
       "count  4068.000000   4068.000000  \n",
       "mean      3.035644      0.110320  \n",
       "std       3.045101      0.466719  \n",
       "min       0.000000      0.000000  \n",
       "25%       0.000000      0.000000  \n",
       "50%       2.000000      0.000000  \n",
       "75%       5.000000      0.000000  \n",
       "max      11.000000     10.520000  "
      ]
     },
     "execution_count": 58,
     "metadata": {},
     "output_type": "execute_result"
    }
   ],
   "source": [
    "#רגרסיה ליניארית על מתחת לחציון\n",
    "df_reg=df_less_median[[\"TotalSpend\",\"credit_card_bin\", \"PROMOS\", \"WEB\", \"COUPONS\", \"MAILED\",\"Perc_Returns\"]]\n"
   ]
  },
  {
   "cell_type": "code",
   "execution_count": null,
   "metadata": {},
   "outputs": [],
   "source": []
  },
  {
   "cell_type": "code",
   "execution_count": null,
   "metadata": {},
   "outputs": [],
   "source": []
  },
  {
   "cell_type": "code",
   "execution_count": null,
   "metadata": {},
   "outputs": [],
   "source": []
  },
  {
   "cell_type": "code",
   "execution_count": null,
   "metadata": {},
   "outputs": [],
   "source": []
  },
  {
   "cell_type": "code",
   "execution_count": 37,
   "metadata": {
    "scrolled": true
   },
   "outputs": [
    {
     "name": "stdout",
     "output_type": "stream",
     "text": [
      "Training set size: 5659\n",
      "Test set size: 2478\n",
      "Regression finished with R^2= 0.579646661388697\n",
      "root of mse= 427.9000909604108\n"
     ]
    },
    {
     "data": {
      "text/plain": [
       "array([  -0.81219905,   15.13066667,  219.39192707,  240.16796685,\n",
       "          4.22245081, -102.13992292])"
      ]
     },
     "execution_count": 37,
     "metadata": {},
     "output_type": "execute_result"
    }
   ],
   "source": [
    "#רגרסיה ליניארית על הכל\n",
    "df_reg=df[[\"TotalSpend\",\"credit_card_bin\", \"PROMOS\", \"WEB\", \"COUPONS\", \"MAILED\",\"Perc_Returns\"]]\n",
    "X=df_reg.drop(columns=\"TotalSpend\")\n",
    "y=df_reg[\"TotalSpend\"]\n",
    "training_set_fraction = 0.7\n",
    "msk = np.random.rand(len(y)) < training_set_fraction\n",
    "X_train = X[msk]\n",
    "y_train = y[msk]\n",
    "X_test = X[~msk]\n",
    "y_test = y[~msk]\n",
    "print ('Training set size: {0:d}\\nTest set size: {1:d}'.format(len(X_train),len(X_test)))\n",
    "lm = LinearRegression()\n",
    "lm.fit(X_train, y_train)\n",
    "print('Regression finished with R^2=',lm.score(X_test,y_test))\n",
    "y_hat=lm.predict(X_test)\n",
    "mae=mean_absolute_error(y_hat,y_test)\n",
    "mse=mean_squared_error(y_hat,y_test)\n",
    "rmae=mae**(0.5)\n",
    "rmse=mse**(0.5)\n",
    "print(\"root of mse=\",rmse)\n",
    "lm.coef_"
   ]
  },
  {
   "cell_type": "code",
   "execution_count": null,
   "metadata": {},
   "outputs": [],
   "source": [
    "dummyDF=pd.get_dummies(df)\n",
    "X=dummyDF.drop(columns=\"selling_price\")\n",
    "y=df[\"selling_price\"]\n",
    "training_set_fraction = 0.7\n",
    "msk = np.random.rand(len(y)) < training_set_fraction\n",
    "X_train = X[msk]\n",
    "y_train = y[msk]\n",
    "X_test = X[~msk]\n",
    "y_test = y[~msk]\n",
    "print ('Training set size: {0:d}\\nTest set size: {1:d}'.format(len(X_train),len(X_test)))\n",
    "lm = LinearRegression()\n",
    "lm.fit(X_train, y_train)\n",
    "print('Regression finished with R^2=',lm.score(X_test,y_test))\n",
    "#הדפסת מדדים נוספים\n",
    "y_hat=lm.predict(X_test)\n",
    "mae=mean_absolute_error(y_hat,y_test)\n",
    "mse=mean_squared_error(y_hat,y_test)\n",
    "rmae=mae**(0.5)\n",
    "rmse=mse**(0.5)\n",
    "print(\"root of mse=\",rmse)"
   ]
  },
  {
   "cell_type": "code",
   "execution_count": 8,
   "metadata": {},
   "outputs": [
    {
     "name": "stdout",
     "output_type": "stream",
     "text": [
      "              HHKEY      ZIP_CODE  Num_Purchases    TotalSpend  Average_Spend  \\\n",
      "count  8.137000e+03   8137.000000    8137.000000   8137.000000    8137.000000   \n",
      "mean   9.960000e+12  23783.398919       5.174757    491.480172     114.072791   \n",
      "std    0.000000e+00  11219.560409       6.614931    663.126944      86.390698   \n",
      "min    9.960000e+12   1001.000000       1.000000      5.000000       2.500000   \n",
      "25%    9.960000e+12  15116.000000       1.000000    135.980000      60.640000   \n",
      "50%    9.960000e+12  27233.000000       3.000000    265.980000      92.490000   \n",
      "75%    9.960000e+12  33024.000000       6.000000    581.230000     139.970000   \n",
      "max    9.960000e+12  98433.000000     115.000000  12794.020000    1331.940000   \n",
      "\n",
      "         PC_CALC20    PSWEATERS   PKNIT_TOPS   PKNIT_DRES     PBLOUSES  \\\n",
      "count  8137.000000  8137.000000  8137.000000  8137.000000  8137.000000   \n",
      "mean     12.728893     0.216124     0.028192     0.040739     0.096303   \n",
      "std       2.533743     0.232349     0.067772     0.108642     0.136890   \n",
      "min      11.000000     0.000000     0.000000     0.000000     0.000000   \n",
      "25%      11.000000     0.000000     0.000000     0.000000     0.000000   \n",
      "50%      11.000000     0.160000     0.000000     0.000000     0.050000   \n",
      "75%      16.000000     0.310000     0.030000     0.030000     0.140000   \n",
      "max      19.000000     1.000000     1.000000     1.000000     1.000000   \n",
      "\n",
      "          PJACKETS    PCAR_PNTS    PCAS_PNTS      PSHIRTS     PDRESSES  \\\n",
      "count  8137.000000  8137.000000  8137.000000  8137.000000  8137.000000   \n",
      "mean      0.134984     0.086137     0.071568     0.068025     0.071081   \n",
      "std       0.182287     0.142445     0.134362     0.116221     0.156288   \n",
      "min       0.000000     0.000000     0.000000     0.000000     0.000000   \n",
      "25%       0.000000     0.000000     0.000000     0.000000     0.000000   \n",
      "50%       0.040000     0.000000     0.000000     0.000000     0.000000   \n",
      "75%       0.230000     0.130000     0.090000     0.100000     0.070000   \n",
      "max       1.000000     1.000000     1.000000     1.000000     1.000000   \n",
      "\n",
      "            PSUITS   POUTERWEAR     PJEWELRY     PFASHION     PLEGWEAR  \\\n",
      "count  8137.000000  8137.000000  8137.000000  8137.000000  8137.000000   \n",
      "mean      0.031074     0.016538     0.008620     0.027233     0.011858   \n",
      "std       0.125559     0.092752     0.034663     0.074626     0.049043   \n",
      "min       0.000000     0.000000     0.000000     0.000000     0.000000   \n",
      "25%       0.000000     0.000000     0.000000     0.000000     0.000000   \n",
      "50%       0.000000     0.000000     0.000000     0.000000     0.000000   \n",
      "75%       0.000000     0.000000     0.000000     0.020000     0.000000   \n",
      "max       1.000000     1.000000     1.000000     1.000000     1.000000   \n",
      "\n",
      "            Pother       PROMOS   DaysonFile  BeteenPurchases     MARKDOWN  \\\n",
      "count  8137.000000  8137.000000  8137.000000      8137.000000  8137.000000   \n",
      "mean      0.091524    11.542583   439.733317       168.667041     0.186400   \n",
      "std       0.134539     7.065151   195.369458       145.145553     0.128736   \n",
      "min       0.000000     0.000000     4.000000         4.000000     0.000000   \n",
      "25%       0.010000     5.000000   285.000000        66.000000     0.080000   \n",
      "50%       0.030000    12.000000   456.000000       123.600000     0.180000   \n",
      "75%       0.120000    17.000000   633.000000       226.000000     0.280000   \n",
      "max       0.920000    35.000000   713.000000       713.000000     0.590000   \n",
      "\n",
      "           COUPONS       STORES          WEB       MAILED    RESPONDED  \\\n",
      "count  8137.000000  8137.000000  8137.000000  8137.000000  8137.000000   \n",
      "mean      0.774856     2.319651     0.042522     4.574290     1.199213   \n",
      "std       1.792024     1.604504     0.201789     3.550405     1.844698   \n",
      "min       0.000000     1.000000     0.000000     0.000000     0.000000   \n",
      "25%       0.000000     1.000000     0.000000     1.000000     0.000000   \n",
      "50%       0.000000     2.000000     0.000000     4.000000     0.000000   \n",
      "75%       1.000000     3.000000     0.000000     8.000000     2.000000   \n",
      "max      23.000000    17.000000     1.000000    11.000000    11.000000   \n",
      "\n",
      "       RESPONSERATE  DiversitySpend  Perc_Returns         RESP  \n",
      "count   8137.000000     8137.000000   8137.000000  8137.000000  \n",
      "mean      17.760414       37.705889      0.119398     0.162714  \n",
      "std       25.279978       27.933818      0.378094     0.369127  \n",
      "min        0.000000        0.440000      0.000000     0.000000  \n",
      "25%        0.000000       18.340000      0.000000     0.000000  \n",
      "50%        0.000000       29.560000      0.000000     0.000000  \n",
      "75%       30.000000       50.000000      0.090000     0.000000  \n",
      "max      100.000000      200.000000     10.520000     1.000000  \n"
     ]
    }
   ],
   "source": [
    "pd.set_option('display.max_columns', 35) #replace n with the number of columns you want to see completely\n",
    "df_describe=df.describe()\n",
    "print(df_describe)\n"
   ]
  },
  {
   "cell_type": "code",
   "execution_count": 29,
   "metadata": {},
   "outputs": [
    {
     "data": {
      "text/plain": [
       "PSWEATERS     0.16\n",
       "PBLOUSES      0.05\n",
       "PJACKETS      0.04\n",
       "PLEGWEAR      0.00\n",
       "PFASHION      0.00\n",
       "PJEWELRY      0.00\n",
       "POUTERWEAR    0.00\n",
       "PSUITS        0.00\n",
       "PDRESSES      0.00\n",
       "PSHIRTS       0.00\n",
       "PCAS_PNTS     0.00\n",
       "PCAR_PNTS     0.00\n",
       "PKNIT_DRES    0.00\n",
       "PKNIT_TOPS    0.00\n",
       "Name: 50%, dtype: float64"
      ]
     },
     "execution_count": 29,
     "metadata": {},
     "output_type": "execute_result"
    }
   ],
   "source": [
    "#sort of the means and the medians from the describe\n",
    "means=df_describe.iloc[1,6:20]\n",
    "means.sort_values(ascending=False)\n",
    "medians=df_describe.iloc[5,6:20]\n",
    "medians.sort_values(ascending=False)"
   ]
  },
  {
   "cell_type": "code",
   "execution_count": null,
   "metadata": {},
   "outputs": [],
   "source": [
    "if"
   ]
  },
  {
   "cell_type": "code",
   "execution_count": 63,
   "metadata": {},
   "outputs": [
    {
     "name": "stdout",
     "output_type": "stream",
     "text": [
      "percent of clients that buy in more than 5000 dollars:  0.2212117488017697\n",
      "percent of clients that buy in more than 1000 dollars:  12.203514808897628\n",
      "percent of clients that buy in less than 100 dollars:  14.513948629716111\n"
     ]
    },
    {
     "data": {
      "image/png": "[encoded data removed]",
      "text/plain": [
       "<Figure size 432x288 with 1 Axes>"
      ]
     },
     "metadata": {
      "needs_background": "light"
     },
     "output_type": "display_data"
    }
   ],
   "source": [
    "total_spend.plot.hist(by=None, bins=1000)\n",
    "bigger_than_5000=0\n",
    "bigger_than_1000=0\n",
    "lower_than_100=0\n",
    "for r in total_spend:\n",
    "    if r > 5000:\n",
    "        bigger_than_5000+=1\n",
    "    if r > 1000:\n",
    "        bigger_than_1000+=1\n",
    "    if r < 100:\n",
    "        lower_than_100+=1\n",
    "        \n",
    "bigger_than_5000=bigger_than_5000*100/len(total_spend)\n",
    "bigger_than_1000=bigger_than_1000*100/len(total_spend)\n",
    "lower_than_100=lower_than_100*100/len(total_spend)\n",
    "\n",
    "print(\"percent of clients that buy in more than 5000 dollars: \",bigger_than_5000)\n",
    "print(\"percent of clients that buy in more than 1000 dollars: \",bigger_than_1000)\n",
    "print(\"percent of clients that buy in less than 100 dollars: \",lower_than_100)\n",
    "print "
   ]
  },
  {
   "cell_type": "code",
   "execution_count": 19,
   "metadata": {},
   "outputs": [
    {
     "ename": "TypeError",
     "evalue": "cannot convert the series to <class 'float'>",
     "output_type": "error",
     "traceback": [
      "\u001b[1;31m---------------------------------------------------------------------------\u001b[0m",
      "\u001b[1;31mTypeError\u001b[0m                                 Traceback (most recent call last)",
      "\u001b[1;32m<ipython-input-19-315bcdc625c6>\u001b[0m in \u001b[0;36m<module>\u001b[1;34m\u001b[0m\n\u001b[0;32m      1\u001b[0m \u001b[1;31m#df = pd.DataFrame({'x':x,'y':y})\u001b[0m\u001b[1;33m\u001b[0m\u001b[1;33m\u001b[0m\u001b[1;33m\u001b[0m\u001b[0m\n\u001b[1;32m----> 2\u001b[1;33m \u001b[0mpurchases\u001b[0m\u001b[1;33m=\u001b[0m\u001b[0mfloat\u001b[0m\u001b[1;33m(\u001b[0m\u001b[0mdf\u001b[0m\u001b[1;33m[\u001b[0m\u001b[1;34m\"Num_Purchases\"\u001b[0m\u001b[1;33m]\u001b[0m\u001b[1;33m)\u001b[0m\u001b[1;33m\u001b[0m\u001b[1;33m\u001b[0m\u001b[0m\n\u001b[0m\u001b[0;32m      3\u001b[0m \u001b[0mtotal_spend\u001b[0m\u001b[1;33m=\u001b[0m\u001b[0mdf\u001b[0m\u001b[1;33m[\u001b[0m\u001b[1;34m\"TotalSpend\"\u001b[0m\u001b[1;33m]\u001b[0m\u001b[1;33m\u001b[0m\u001b[1;33m\u001b[0m\u001b[0m\n\u001b[0;32m      4\u001b[0m \u001b[0max\u001b[0m\u001b[1;33m=\u001b[0m\u001b[0mdf\u001b[0m\u001b[1;33m.\u001b[0m\u001b[0mplot\u001b[0m\u001b[1;33m.\u001b[0m\u001b[0mscatter\u001b[0m\u001b[1;33m(\u001b[0m\u001b[0mx\u001b[0m\u001b[1;33m=\u001b[0m\u001b[0mpurchases\u001b[0m\u001b[1;33m,\u001b[0m\u001b[0my\u001b[0m\u001b[1;33m=\u001b[0m\u001b[0mtotal_spend\u001b[0m\u001b[1;33m,\u001b[0m \u001b[0ms\u001b[0m\u001b[1;33m=\u001b[0m\u001b[1;36m1\u001b[0m\u001b[1;33m)\u001b[0m\u001b[1;33m\u001b[0m\u001b[1;33m\u001b[0m\u001b[0m\n\u001b[0;32m      5\u001b[0m \u001b[1;31m#ax.legend(); ax.set_xlabel('purchases'); ax.set_ylabel('total spend');\u001b[0m\u001b[1;33m\u001b[0m\u001b[1;33m\u001b[0m\u001b[1;33m\u001b[0m\u001b[0m\n",
      "\u001b[1;32mC:\\ProgramData\\Anaconda3\\lib\\site-packages\\pandas\\core\\series.py\u001b[0m in \u001b[0;36mwrapper\u001b[1;34m(self)\u001b[0m\n\u001b[0;32m    127\u001b[0m         \u001b[1;32mif\u001b[0m \u001b[0mlen\u001b[0m\u001b[1;33m(\u001b[0m\u001b[0mself\u001b[0m\u001b[1;33m)\u001b[0m \u001b[1;33m==\u001b[0m \u001b[1;36m1\u001b[0m\u001b[1;33m:\u001b[0m\u001b[1;33m\u001b[0m\u001b[1;33m\u001b[0m\u001b[0m\n\u001b[0;32m    128\u001b[0m             \u001b[1;32mreturn\u001b[0m \u001b[0mconverter\u001b[0m\u001b[1;33m(\u001b[0m\u001b[0mself\u001b[0m\u001b[1;33m.\u001b[0m\u001b[0miloc\u001b[0m\u001b[1;33m[\u001b[0m\u001b[1;36m0\u001b[0m\u001b[1;33m]\u001b[0m\u001b[1;33m)\u001b[0m\u001b[1;33m\u001b[0m\u001b[1;33m\u001b[0m\u001b[0m\n\u001b[1;32m--> 129\u001b[1;33m         \u001b[1;32mraise\u001b[0m \u001b[0mTypeError\u001b[0m\u001b[1;33m(\u001b[0m\u001b[1;34mf\"cannot convert the series to {converter}\"\u001b[0m\u001b[1;33m)\u001b[0m\u001b[1;33m\u001b[0m\u001b[1;33m\u001b[0m\u001b[0m\n\u001b[0m\u001b[0;32m    130\u001b[0m \u001b[1;33m\u001b[0m\u001b[0m\n\u001b[0;32m    131\u001b[0m     \u001b[0mwrapper\u001b[0m\u001b[1;33m.\u001b[0m\u001b[0m__name__\u001b[0m \u001b[1;33m=\u001b[0m \u001b[1;34mf\"__{converter.__name__}__\"\u001b[0m\u001b[1;33m\u001b[0m\u001b[1;33m\u001b[0m\u001b[0m\n",
      "\u001b[1;31mTypeError\u001b[0m: cannot convert the series to <class 'float'>"
     ]
    }
   ],
   "source": [
    "#df = pd.DataFrame({'x':x,'y':y})\n",
    "#purchases=float(df[\"Num_Purchases\"])\n",
    "#total_spend=df[\"TotalSpend\"]\n",
    "#ax=df.plot.scatter(x=purchases,y=total_spend, s=1, label = f\"{purchases.corr(total_spend):2.2f}\")\n",
    "#ax.legend(); ax.set_xlabel('purchases'); ax.set_ylabel('total spend');\n",
    "#return ax"
   ]
  },
  {
   "cell_type": "code",
   "execution_count": 7,
   "metadata": {},
   "outputs": [
    {
     "name": "stdout",
     "output_type": "stream",
     "text": [
      "          HHKEY  ZIP_CODE  Num_Purchases  TotalSpend Credit_Card_User  \\\n",
      "0  9.960000e+12      1001              2      368.46               No   \n",
      "1  9.960000e+12      1028              4      258.00              Yes   \n",
      "2  9.960000e+12      1056              2       77.00               No   \n",
      "3  9.960000e+12      1118              8      846.06              Yes   \n",
      "4  9.960000e+12      1107              1       87.44               No   \n",
      "\n",
      "   Average_Spend  PC_CALC20  PSWEATERS  PKNIT_TOPS  PKNIT_DRES  ...  MARKDOWN  \\\n",
      "0         184.23         11       0.18        0.00        0.00  ...      0.08   \n",
      "1          64.50         11       0.26        0.16        0.00  ...      0.33   \n",
      "2          38.50         11       1.00        0.00        0.00  ...      0.11   \n",
      "3         105.75         11       0.38        0.00        0.05  ...      0.29   \n",
      "4          87.44         11       0.20        0.20        0.00  ...      0.42   \n",
      "\n",
      "   COUPONS  STORES  WEB  MAILED  RESPONDED  RESPONSERATE  DiversitySpend  \\\n",
      "0        1       1    0       5          0          0.00           31.81   \n",
      "1        0       1    0       4          2         50.00           32.72   \n",
      "2        0       1    0       4          0          0.00          100.00   \n",
      "3        3       1    0       9          6         66.67           23.27   \n",
      "4        0       1    0       0          0          0.00           28.52   \n",
      "\n",
      "   Perc_Returns  RESP  \n",
      "0          0.00     0  \n",
      "1          0.03     1  \n",
      "2          0.00     0  \n",
      "3          0.00     0  \n",
      "4          0.00     0  \n",
      "\n",
      "[5 rows x 35 columns]\n",
      "0        1001\n",
      "1        1028\n",
      "2        1056\n",
      "3        1118\n",
      "4        1107\n",
      "        ...  \n",
      "8133    39206\n",
      "8134    39110\n",
      "8135    39212\n",
      "8136    39211\n",
      "8137    39232\n",
      "Name: ZIP_CODE, Length: 8138, dtype: int64\n"
     ]
    }
   ],
   "source": [
    "print(df.head())\n",
    "print(df[\"ZIP_CODE\"])"
   ]
  },
  {
   "cell_type": "code",
   "execution_count": null,
   "metadata": {},
   "outputs": [],
   "source": []
  }
 ],
 "metadata": {
  "kernelspec": {
   "display_name": "Python 3",
   "language": "python",
   "name": "python3"
  },
  "language_info": {
   "codemirror_mode": {
    "name": "ipython",
    "version": 3
   },
   "file_extension": ".py",
   "mimetype": "text/x-python",
   "name": "python",
   "nbconvert_exporter": "python",
   "pygments_lexer": "ipython3",
   "version": "3.8.5"
  }
 },
 "nbformat": 4,
 "nbformat_minor": 4
}
